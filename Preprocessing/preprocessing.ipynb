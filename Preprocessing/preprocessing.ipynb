{
 "cells": [
  {
   "cell_type": "code",
   "execution_count": 26,
   "id": "c209ffbc-7af7-4a4c-891a-c4d7f525faf5",
   "metadata": {},
   "outputs": [],
   "source": [
    "import pandas as pd\n",
    "import numpy as np\n",
    "from sklearn.impute import KNNImputer\n",
    "from sklearn.preprocessing import LabelEncoder"
   ]
  },
  {
   "cell_type": "code",
   "execution_count": 2,
   "id": "884d499b-677e-4f34-b9d2-03408d02f806",
   "metadata": {},
   "outputs": [],
   "source": [
    "df = pd.read_csv('data.csv', index_col=0).reset_index().drop('index', axis=1)"
   ]
  },
  {
   "cell_type": "code",
   "execution_count": 3,
   "id": "1bf61520-c7c0-4463-a01b-ffd85d3f6c5f",
   "metadata": {},
   "outputs": [
    {
     "data": {
      "text/html": [
       "<div>\n",
       "<style scoped>\n",
       "    .dataframe tbody tr th:only-of-type {\n",
       "        vertical-align: middle;\n",
       "    }\n",
       "\n",
       "    .dataframe tbody tr th {\n",
       "        vertical-align: top;\n",
       "    }\n",
       "\n",
       "    .dataframe thead th {\n",
       "        text-align: right;\n",
       "    }\n",
       "</style>\n",
       "<table border=\"1\" class=\"dataframe\">\n",
       "  <thead>\n",
       "    <tr style=\"text-align: right;\">\n",
       "      <th></th>\n",
       "      <th>name</th>\n",
       "      <th>brand</th>\n",
       "      <th>2G</th>\n",
       "      <th>3G</th>\n",
       "      <th>4G</th>\n",
       "      <th>5G</th>\n",
       "      <th>Announced</th>\n",
       "      <th>Status</th>\n",
       "      <th>Weight</th>\n",
       "      <th>Length</th>\n",
       "      <th>...</th>\n",
       "      <th>Bluetooth</th>\n",
       "      <th>GPU</th>\n",
       "      <th>Loudspeaker</th>\n",
       "      <th>3.5mm jack</th>\n",
       "      <th>Chipset</th>\n",
       "      <th>Network</th>\n",
       "      <th>Internal</th>\n",
       "      <th>Card slot</th>\n",
       "      <th>RAM</th>\n",
       "      <th>Storage</th>\n",
       "    </tr>\n",
       "  </thead>\n",
       "  <tbody>\n",
       "    <tr>\n",
       "      <th>0</th>\n",
       "      <td>alcatel 1b (2022)</td>\n",
       "      <td>alcatel</td>\n",
       "      <td>True</td>\n",
       "      <td>True</td>\n",
       "      <td>True</td>\n",
       "      <td>False</td>\n",
       "      <td>2022.0</td>\n",
       "      <td>Available</td>\n",
       "      <td>172.0</td>\n",
       "      <td>146.7</td>\n",
       "      <td>...</td>\n",
       "      <td>5.0, A2DP</td>\n",
       "      <td>PowerVR GE8300</td>\n",
       "      <td>True</td>\n",
       "      <td>True</td>\n",
       "      <td>Mediatek MT6761 Helio A22 (12 nm)</td>\n",
       "      <td>GSM / HSPA / LTE HSPA 42.2/11.1 Mbps, LTE Cat4...</td>\n",
       "      <td>32GB 2GB RAM</td>\n",
       "      <td>microSDXC (dedicated slot)</td>\n",
       "      <td>2.0</td>\n",
       "      <td>32.0</td>\n",
       "    </tr>\n",
       "    <tr>\n",
       "      <th>1</th>\n",
       "      <td>alcatel 1l pro (2021)</td>\n",
       "      <td>alcatel</td>\n",
       "      <td>True</td>\n",
       "      <td>True</td>\n",
       "      <td>True</td>\n",
       "      <td>False</td>\n",
       "      <td>2021.0</td>\n",
       "      <td>Available</td>\n",
       "      <td>190.0</td>\n",
       "      <td>156.4</td>\n",
       "      <td>...</td>\n",
       "      <td>4.2, A2DP</td>\n",
       "      <td>IMG8322</td>\n",
       "      <td>True</td>\n",
       "      <td>True</td>\n",
       "      <td>Unisoc SC9863A (28nm)</td>\n",
       "      <td>GSM / HSPA / LTE HSPA 21.1/5.76 Mbps, LTE Cat4...</td>\n",
       "      <td>32GB 2GB RAM</td>\n",
       "      <td>microSDXC (uses shared SIM slot)</td>\n",
       "      <td>2.0</td>\n",
       "      <td>32.0</td>\n",
       "    </tr>\n",
       "    <tr>\n",
       "      <th>2</th>\n",
       "      <td>alcatel 1 (2021)</td>\n",
       "      <td>alcatel</td>\n",
       "      <td>True</td>\n",
       "      <td>True</td>\n",
       "      <td>True</td>\n",
       "      <td>False</td>\n",
       "      <td>2021.0</td>\n",
       "      <td>Available</td>\n",
       "      <td>134.0</td>\n",
       "      <td>137.6</td>\n",
       "      <td>...</td>\n",
       "      <td>4.2, A2DP, LE</td>\n",
       "      <td>PowerVR GE8100</td>\n",
       "      <td>True</td>\n",
       "      <td>True</td>\n",
       "      <td>Mediatek MT6739 (28 nm)</td>\n",
       "      <td>GSM / HSPA / LTE HSPA 42.2/11.5 Mbps, LTE Cat4...</td>\n",
       "      <td>8GB 1GB RAM, 16GB 1GB RAM</td>\n",
       "      <td>microSDHC (dedicated slot)</td>\n",
       "      <td>1.0</td>\n",
       "      <td>8.0</td>\n",
       "    </tr>\n",
       "    <tr>\n",
       "      <th>3</th>\n",
       "      <td>alcatel 3l (2021)</td>\n",
       "      <td>alcatel</td>\n",
       "      <td>True</td>\n",
       "      <td>True</td>\n",
       "      <td>True</td>\n",
       "      <td>False</td>\n",
       "      <td>2021.0</td>\n",
       "      <td>Available</td>\n",
       "      <td>194.0</td>\n",
       "      <td>165.6</td>\n",
       "      <td>...</td>\n",
       "      <td>5.0, A2DP, LE</td>\n",
       "      <td>PowerVR GE8320</td>\n",
       "      <td>True</td>\n",
       "      <td>True</td>\n",
       "      <td>Mediatek MT6762D Helio P22 (12 nm)</td>\n",
       "      <td>GSM / HSPA / LTE HSPA 42.2/5.76 Mbps, LTE Cat4...</td>\n",
       "      <td>64GB 4GB RAM</td>\n",
       "      <td>microSDXC (only single sim model)</td>\n",
       "      <td>4.0</td>\n",
       "      <td>64.0</td>\n",
       "    </tr>\n",
       "    <tr>\n",
       "      <th>4</th>\n",
       "      <td>alcatel 1s (2021)</td>\n",
       "      <td>alcatel</td>\n",
       "      <td>True</td>\n",
       "      <td>True</td>\n",
       "      <td>True</td>\n",
       "      <td>False</td>\n",
       "      <td>2021.0</td>\n",
       "      <td>Available</td>\n",
       "      <td>190.0</td>\n",
       "      <td>165.6</td>\n",
       "      <td>...</td>\n",
       "      <td>5.0, A2DP, LE</td>\n",
       "      <td>PowerVR GE8320</td>\n",
       "      <td>True</td>\n",
       "      <td>True</td>\n",
       "      <td>Mediatek MT6762D Helio P22 (12 nm)</td>\n",
       "      <td>GSM / HSPA / LTE HSPA 42.2/5.76 Mbps, LTE Cat4...</td>\n",
       "      <td>32GB 3GB RAM</td>\n",
       "      <td>microSDXC (uses shared SIM slot)</td>\n",
       "      <td>3.0</td>\n",
       "      <td>32.0</td>\n",
       "    </tr>\n",
       "  </tbody>\n",
       "</table>\n",
       "<p>5 rows × 36 columns</p>\n",
       "</div>"
      ],
      "text/plain": [
       "                    name    brand    2G    3G    4G     5G  Announced  \\\n",
       "0      alcatel 1b (2022)  alcatel  True  True  True  False     2022.0   \n",
       "1  alcatel 1l pro (2021)  alcatel  True  True  True  False     2021.0   \n",
       "2       alcatel 1 (2021)  alcatel  True  True  True  False     2021.0   \n",
       "3      alcatel 3l (2021)  alcatel  True  True  True  False     2021.0   \n",
       "4      alcatel 1s (2021)  alcatel  True  True  True  False     2021.0   \n",
       "\n",
       "      Status  Weight  Length  ...      Bluetooth             GPU Loudspeaker  \\\n",
       "0  Available   172.0  146.7   ...      5.0, A2DP  PowerVR GE8300        True   \n",
       "1  Available   190.0  156.4   ...      4.2, A2DP         IMG8322        True   \n",
       "2  Available   134.0  137.6   ...  4.2, A2DP, LE  PowerVR GE8100        True   \n",
       "3  Available   194.0  165.6   ...  5.0, A2DP, LE  PowerVR GE8320        True   \n",
       "4  Available   190.0  165.6   ...  5.0, A2DP, LE  PowerVR GE8320        True   \n",
       "\n",
       "  3.5mm jack                             Chipset  \\\n",
       "0       True   Mediatek MT6761 Helio A22 (12 nm)   \n",
       "1       True               Unisoc SC9863A (28nm)   \n",
       "2       True             Mediatek MT6739 (28 nm)   \n",
       "3       True  Mediatek MT6762D Helio P22 (12 nm)   \n",
       "4       True  Mediatek MT6762D Helio P22 (12 nm)   \n",
       "\n",
       "                                             Network  \\\n",
       "0  GSM / HSPA / LTE HSPA 42.2/11.1 Mbps, LTE Cat4...   \n",
       "1  GSM / HSPA / LTE HSPA 21.1/5.76 Mbps, LTE Cat4...   \n",
       "2  GSM / HSPA / LTE HSPA 42.2/11.5 Mbps, LTE Cat4...   \n",
       "3  GSM / HSPA / LTE HSPA 42.2/5.76 Mbps, LTE Cat4...   \n",
       "4  GSM / HSPA / LTE HSPA 42.2/5.76 Mbps, LTE Cat4...   \n",
       "\n",
       "                    Internal                          Card slot  RAM  Storage  \n",
       "0               32GB 2GB RAM         microSDXC (dedicated slot)  2.0     32.0  \n",
       "1               32GB 2GB RAM   microSDXC (uses shared SIM slot)  2.0     32.0  \n",
       "2  8GB 1GB RAM, 16GB 1GB RAM         microSDHC (dedicated slot)  1.0      8.0  \n",
       "3               64GB 4GB RAM  microSDXC (only single sim model)  4.0     64.0  \n",
       "4               32GB 3GB RAM   microSDXC (uses shared SIM slot)  3.0     32.0  \n",
       "\n",
       "[5 rows x 36 columns]"
      ]
     },
     "execution_count": 3,
     "metadata": {},
     "output_type": "execute_result"
    }
   ],
   "source": [
    "df.head()"
   ]
  },
  {
   "cell_type": "code",
   "execution_count": 4,
   "id": "a2265fc3-6b3c-415a-b732-cc5c3ea13e7c",
   "metadata": {},
   "outputs": [
    {
     "data": {
      "text/plain": [
       "Index(['name', 'brand', '2G', '3G', '4G', '5G', 'Announced', 'Status',\n",
       "       'Weight', 'Length', 'Width', 'Diameter', 'SIM', 'Display Type',\n",
       "       'Display Size', 'ppi', 'body ratio', 'OS', 'battery_capacity', 'Price',\n",
       "       'CPU', 'ratio', 'pixel', 'WLAN', 'Colors', 'Sensors', 'Bluetooth',\n",
       "       'GPU', 'Loudspeaker', '3.5mm jack', 'Chipset', 'Network', 'Internal',\n",
       "       'Card slot', 'RAM', 'Storage'],\n",
       "      dtype='object')"
      ]
     },
     "execution_count": 4,
     "metadata": {},
     "output_type": "execute_result"
    }
   ],
   "source": [
    "df.columns"
   ]
  },
  {
   "cell_type": "code",
   "execution_count": 5,
   "id": "2cdeecf7-e588-48c8-87a4-f2768166c2db",
   "metadata": {},
   "outputs": [],
   "source": [
    "df.drop(['name', '2G', 'Status', 'Card slot', 'Internal', 'Network', 'Colors', 'WLAN', 'Bluetooth', 'Sensors', 'GPU'], axis=1, inplace=True)"
   ]
  },
  {
   "cell_type": "markdown",
   "id": "24c23a21-271e-4da9-a8de-51574baa5c88",
   "metadata": {},
   "source": [
    "ستون اسم و توجی براساس چیزی که خودت گفته بودی حذفشون منطقیه\n",
    "ستون استتوس بنظرم به تاریخ خیلی مرتبطه و معیاری برای قیمت گذاری نیست برا همین حذفش کردم\n",
    "ستون کارد اسلات برای قیمت گداری چیز به درد بخوری نبود چون خیلی از گوشی های امروزی اصلا ندارن همچین جیزی و در گذشته شاید تاثیر گذار میبوده\n",
    "ستون نتورک و ویلن همون سه نمیانده تریجی و فورجی و فایو جی کافیه اینا هم خیلی گستردن (باعث یجورایی گیجی مدل میشه) برای همین حذف کردم\n",
    "ستون رنگ همون که خودت گفتی و ستون اینترنال هم جدا شده تو رم و استوریج داریمش\n",
    "ستون بلوتوث چون ورژن و نوع های مختلفی داشت خیلی مدل رو گیج میکرد و همه گوشی ها بولوتوث داشتن\n",
    "سنسور هم اولا لیستی بود و تقریبا به چیپست و برند وابسته است برای همین حذفش کردم و البته برای قیمت گذاری بنطرم خیلی چیپ باشه\n",
    "گرافیگ هم با فرض اینکه به سی پی بو وابستگی داره و گستردگی زیادی داره حذفش کردم"
   ]
  },
  {
   "cell_type": "code",
   "execution_count": 6,
   "id": "06bb255a-524f-409b-843e-8ca44069c392",
   "metadata": {},
   "outputs": [
    {
     "data": {
      "text/plain": [
       "Index(['brand', '3G', '4G', '5G', 'Announced', 'Weight', 'Length', 'Width',\n",
       "       'Diameter', 'SIM', 'Display Type', 'Display Size', 'ppi', 'body ratio',\n",
       "       'OS', 'battery_capacity', 'Price', 'CPU', 'ratio', 'pixel',\n",
       "       'Loudspeaker', '3.5mm jack', 'Chipset', 'RAM', 'Storage'],\n",
       "      dtype='object')"
      ]
     },
     "execution_count": 6,
     "metadata": {},
     "output_type": "execute_result"
    }
   ],
   "source": [
    "df.columns"
   ]
  },
  {
   "cell_type": "code",
   "execution_count": 7,
   "id": "ccdccaeb-6029-4f19-a507-0524c6b55160",
   "metadata": {},
   "outputs": [
    {
     "data": {
      "text/plain": [
       "brand                 0\n",
       "3G                    0\n",
       "4G                    0\n",
       "5G                    0\n",
       "Announced             0\n",
       "Weight                0\n",
       "Length                0\n",
       "Width                 0\n",
       "Diameter              0\n",
       "SIM                   0\n",
       "Display Type          0\n",
       "Display Size          0\n",
       "ppi                   0\n",
       "body ratio            0\n",
       "OS                    0\n",
       "battery_capacity      0\n",
       "Price                 0\n",
       "CPU                 279\n",
       "ratio                 0\n",
       "pixel                 0\n",
       "Loudspeaker           0\n",
       "3.5mm jack            0\n",
       "Chipset             257\n",
       "RAM                   0\n",
       "Storage               0\n",
       "dtype: int64"
      ]
     },
     "execution_count": 7,
     "metadata": {},
     "output_type": "execute_result"
    }
   ],
   "source": [
    "df.isna().sum()"
   ]
  },
  {
   "cell_type": "code",
   "execution_count": 8,
   "id": "168fb739-8219-4327-bdce-7c898b50f2d6",
   "metadata": {},
   "outputs": [],
   "source": [
    "df['Announced'] = df['Announced'].astype('int')"
   ]
  },
  {
   "cell_type": "code",
   "execution_count": 9,
   "id": "4f3af851-f4d4-42aa-9c30-c5df92920d81",
   "metadata": {},
   "outputs": [],
   "source": [
    "def Dimensions(x):\n",
    "    try:\n",
    "        return float(x)\n",
    "    except:\n",
    "        if 'Unfolded' in x:\n",
    "            return float(x.split(': ')[1])\n",
    "        elif 'mm' in x:\n",
    "            return float(x.split('mm')[0])\n",
    "        elif '-' in x:\n",
    "            return float(x.split('-')[1]) - float(x.split('-')[0])"
   ]
  },
  {
   "cell_type": "code",
   "execution_count": 10,
   "id": "bc3ef090-8f6c-4523-aa43-efc20e2540f2",
   "metadata": {},
   "outputs": [],
   "source": [
    "df['Length'] = df['Length'].apply(Dimensions)\n",
    "df['Length'] = df['Length'].astype('float')\n",
    "df['Width'] = df['Width'].apply(Dimensions)\n",
    "df['Width'] = df['Width'].astype('float')\n",
    "df['Diameter'] = df['Diameter'].apply(Dimensions)\n",
    "df['Diameter'] = df['Diameter'].astype('float')"
   ]
  },
  {
   "cell_type": "code",
   "execution_count": 11,
   "id": "1ec6eaa3-0dc0-417f-863f-4ab81298cf19",
   "metadata": {},
   "outputs": [],
   "source": [
    "df = pd.concat([df, pd.get_dummies(df['SIM'])], axis=1)\n",
    "df.drop('SIM', axis=1, inplace=True)"
   ]
  },
  {
   "cell_type": "code",
   "execution_count": 12,
   "id": "95304cfa-e735-4c75-b683-c571b3ac937b",
   "metadata": {},
   "outputs": [],
   "source": [
    "def Display_Type(x):\n",
    "    if 'IPS' in x:\n",
    "        return 'IPS'\n",
    "    if 'TFT' in x:\n",
    "        return 'TFT'\n",
    "    if 'Retina' in x:\n",
    "        return 'Retina'\n",
    "    if 'Super AMOLED' in x:\n",
    "        return 'Super AMOLED'\n",
    "    if 'AMOLED' in x:\n",
    "        return 'AMOLED'\n",
    "    if 'OLED' in x:\n",
    "        return 'OLED'\n",
    "    if 'LCD' in x:\n",
    "        return 'LCD'\n",
    "    if 'PLS' in x:\n",
    "        return 'PLS'\n",
    "    else:\n",
    "        return 'LCD'"
   ]
  },
  {
   "cell_type": "code",
   "execution_count": 13,
   "id": "bc68c9fe-f88f-4f18-84a3-8cfe3b12da13",
   "metadata": {},
   "outputs": [],
   "source": [
    "df['Display Type'] = df['Display Type'].apply(Display_Type)"
   ]
  },
  {
   "cell_type": "code",
   "execution_count": 14,
   "id": "18ea0caf-c9e6-4c4d-81c2-5ecb65c608b8",
   "metadata": {},
   "outputs": [],
   "source": [
    "def OS(x):\n",
    "    if 'Android' in x:\n",
    "        return 'Android'\n",
    "    if 'iOS' in x or 'iPadOS' in x:\n",
    "        return 'iOS'\n",
    "    else:\n",
    "        return 'Other'"
   ]
  },
  {
   "cell_type": "code",
   "execution_count": 15,
   "id": "445f7ccc-28f0-4f3c-bc08-df3bc19d0397",
   "metadata": {},
   "outputs": [],
   "source": [
    "df['OS'] = df['OS'].apply(OS)"
   ]
  },
  {
   "cell_type": "code",
   "execution_count": 16,
   "id": "58605bec-6850-4dda-ab2f-9587e57db496",
   "metadata": {},
   "outputs": [],
   "source": [
    "ratio_1 = list()\n",
    "ratio_2 = list()\n",
    "for ax_1, ax_2 in df['ratio'].str.split(':'):\n",
    "    ratio_1.append(float(ax_1))\n",
    "    ratio_2.append(float(ax_2))\n",
    "df['ratio_1'] = ratio_1\n",
    "df['ratio_2'] = ratio_2\n",
    "df.drop('ratio', axis=1, inplace=True)"
   ]
  },
  {
   "cell_type": "code",
   "execution_count": 17,
   "id": "94ca1b03-ddf0-4a5b-bdac-16f60da4d20a",
   "metadata": {},
   "outputs": [],
   "source": [
    "def Chipset(x):\n",
    "    if 'Qualcom' in str(x) or 'Snapdragon' in str(x):\n",
    "        return 'Qualcom'\n",
    "    if 'Mediatek' in str(x) or 'MediaTek' in str(x):\n",
    "        return 'Mediatek'\n",
    "    if 'Intel' in str(x):\n",
    "        return 'Intel'\n",
    "    if 'Nvidia' in str(x) or 'NVIDIA' in str(x):\n",
    "        return 'Nvidia'\n",
    "    if 'Apple' in str(x):\n",
    "        return 'Apple'\n",
    "    if 'Unisoc' in str(x) or 'Spreadtrum' in str(x):\n",
    "        return 'Unisoc'\n",
    "    if 'Exynos' in str(x) or 'Hummingbird' in str(x):\n",
    "        return 'Exynos'\n",
    "    if 'Kirin' in str(x) or 'Huawei' in str(x):\n",
    "        return 'Kirin'\n",
    "    else:\n",
    "        return np.nan"
   ]
  },
  {
   "cell_type": "code",
   "execution_count": 18,
   "id": "07644638-977e-4d6a-ad8c-f25198366659",
   "metadata": {},
   "outputs": [],
   "source": [
    "df['Chipset'] = df['Chipset'].apply(Chipset)"
   ]
  },
  {
   "cell_type": "code",
   "execution_count": 19,
   "id": "e067f621-07e7-4225-bd4b-c43d52eb60eb",
   "metadata": {},
   "outputs": [],
   "source": [
    "knn_imputer = KNNImputer(n_neighbors=5)\n",
    "df['CPU'] = knn_imputer.fit_transform(df[['CPU']])"
   ]
  },
  {
   "cell_type": "markdown",
   "id": "20be22f3-a850-4999-bd14-d4533fc36b25",
   "metadata": {},
   "source": [
    "براساس 5 همسایه نزدیک، ستون سی پی یو رو پر کردم"
   ]
  },
  {
   "cell_type": "code",
   "execution_count": 20,
   "id": "d312e981-e0ad-4520-a3b2-fe626af1c9fd",
   "metadata": {},
   "outputs": [],
   "source": [
    "df.dropna(inplace=True)"
   ]
  },
  {
   "cell_type": "markdown",
   "id": "875e0fec-a4ac-4767-887e-a3a6218b61cf",
   "metadata": {},
   "source": [
    "نال های چیپست رو حذف کردم و راحت (برای ستون جیپست فقط برند هارو نگه داشتم)"
   ]
  },
  {
   "cell_type": "code",
   "execution_count": 21,
   "id": "f9e41059-80df-4081-b78e-8a5aadfd0b64",
   "metadata": {},
   "outputs": [
    {
     "data": {
      "text/plain": [
       "Index(['brand', 'Display Type', 'OS', 'Chipset'], dtype='object')"
      ]
     },
     "execution_count": 21,
     "metadata": {},
     "output_type": "execute_result"
    }
   ],
   "source": [
    "df.select_dtypes('object').columns"
   ]
  },
  {
   "cell_type": "code",
   "execution_count": 22,
   "id": "88811d5c-b821-414c-bc2c-fedb1ad1d581",
   "metadata": {},
   "outputs": [],
   "source": [
    "df.to_csv('data_no_mising_value_cat_col.csv', index=False)"
   ]
  },
  {
   "cell_type": "code",
   "execution_count": 23,
   "id": "922bb412-0113-4ea0-a6d1-170581ec6300",
   "metadata": {},
   "outputs": [],
   "source": [
    "from sklearn.preprocessing import LabelEncoder\n",
    "df['brand'] = LabelEncoder().fit_transform(df['brand'])\n",
    "df['Display Type'] = LabelEncoder().fit_transform(df['Display Type'])\n",
    "df['OS'] = LabelEncoder().fit_transform(df['OS'])\n",
    "df['Chipset'] = LabelEncoder().fit_transform(df['Chipset'])"
   ]
  },
  {
   "cell_type": "code",
   "execution_count": 24,
   "id": "67947f76-bd05-472e-9777-b81bc5b2d8fe",
   "metadata": {},
   "outputs": [
    {
     "name": "stdout",
     "output_type": "stream",
     "text": [
      "<class 'pandas.core.frame.DataFrame'>\n",
      "Index: 2348 entries, 0 to 2649\n",
      "Data columns (total 29 columns):\n",
      " #   Column            Non-Null Count  Dtype  \n",
      "---  ------            --------------  -----  \n",
      " 0   brand             2348 non-null   int32  \n",
      " 1   3G                2348 non-null   bool   \n",
      " 2   4G                2348 non-null   bool   \n",
      " 3   5G                2348 non-null   bool   \n",
      " 4   Announced         2348 non-null   int32  \n",
      " 5   Weight            2348 non-null   float64\n",
      " 6   Length            2348 non-null   float64\n",
      " 7   Width             2348 non-null   float64\n",
      " 8   Diameter          2348 non-null   float64\n",
      " 9   Display Type      2348 non-null   int32  \n",
      " 10  Display Size      2348 non-null   float64\n",
      " 11  ppi               2348 non-null   float64\n",
      " 12  body ratio        2348 non-null   float64\n",
      " 13  OS                2348 non-null   int32  \n",
      " 14  battery_capacity  2348 non-null   float64\n",
      " 15  Price             2348 non-null   float64\n",
      " 16  CPU               2348 non-null   float64\n",
      " 17  pixel             2348 non-null   float64\n",
      " 18  Loudspeaker       2348 non-null   bool   \n",
      " 19  3.5mm jack        2348 non-null   bool   \n",
      " 20  Chipset           2348 non-null   int32  \n",
      " 21  RAM               2348 non-null   float64\n",
      " 22  Storage           2348 non-null   float64\n",
      " 23  Micro-SIM         2348 non-null   bool   \n",
      " 24  Mini-SIM          2348 non-null   bool   \n",
      " 25  Nano-SIM          2348 non-null   bool   \n",
      " 26  eSIM              2348 non-null   bool   \n",
      " 27  ratio_1           2348 non-null   float64\n",
      " 28  ratio_2           2348 non-null   float64\n",
      "dtypes: bool(9), float64(15), int32(5)\n",
      "memory usage: 360.0 KB\n"
     ]
    }
   ],
   "source": [
    "df.info()"
   ]
  },
  {
   "cell_type": "code",
   "execution_count": 25,
   "id": "0e2ca85c-f04f-411d-8950-c1fc8492664f",
   "metadata": {},
   "outputs": [],
   "source": [
    "df.to_csv('data_no_mising_value_label_encoder_col.csv', index=False)"
   ]
  }
 ],
 "metadata": {
  "kernelspec": {
   "display_name": "Python 3 (ipykernel)",
   "language": "python",
   "name": "python3"
  },
  "language_info": {
   "codemirror_mode": {
    "name": "ipython",
    "version": 3
   },
   "file_extension": ".py",
   "mimetype": "text/x-python",
   "name": "python",
   "nbconvert_exporter": "python",
   "pygments_lexer": "ipython3",
   "version": "3.9.18"
  }
 },
 "nbformat": 4,
 "nbformat_minor": 5
}
