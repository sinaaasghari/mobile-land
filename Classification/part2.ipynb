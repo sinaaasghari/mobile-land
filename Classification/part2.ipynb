{
 "cells": [
  {
   "cell_type": "code",
   "execution_count": 1,
   "metadata": {},
   "outputs": [],
   "source": [
    "import pandas as pd \n",
    "import numpy as np \n",
    "import matplotlib.pyplot as plt\n",
    "import seaborn as sns"
   ]
  },
  {
   "cell_type": "code",
   "execution_count": 2,
   "metadata": {},
   "outputs": [],
   "source": [
    "# # train test split\n",
    "# df = pd.read_csv('data_final.csv')\n",
    "# from sklearn.model_selection import train_test_split\n",
    "# df_train, df_test = train_test_split(df, test_size=0.15, random_state=42)\n",
    "# df_train, df_test = pd.DataFrame(df_train, columns=df.columns), pd.DataFrame(df_test, columns=df.columns)\n",
    "# df_train.to_csv('train.csv')\n",
    "# df_test.to_csv('test.csv')"
   ]
  },
  {
   "cell_type": "code",
   "execution_count": 3,
   "metadata": {},
   "outputs": [],
   "source": [
    "train = pd.read_csv('train.csv')\n",
    "test = pd.read_csv('test.csv')"
   ]
  },
  {
   "cell_type": "code",
   "execution_count": 4,
   "metadata": {},
   "outputs": [
    {
     "name": "stdout",
     "output_type": "stream",
     "text": [
      "<class 'pandas.core.frame.DataFrame'>\n",
      "RangeIndex: 1995 entries, 0 to 1994\n",
      "Data columns (total 30 columns):\n",
      " #   Column            Non-Null Count  Dtype  \n",
      "---  ------            --------------  -----  \n",
      " 0   Unnamed: 0        1995 non-null   int64  \n",
      " 1   brand             1995 non-null   int64  \n",
      " 2   3G                1995 non-null   bool   \n",
      " 3   4G                1995 non-null   bool   \n",
      " 4   5G                1995 non-null   bool   \n",
      " 5   Announced         1995 non-null   int64  \n",
      " 6   Weight            1995 non-null   float64\n",
      " 7   Length            1995 non-null   float64\n",
      " 8   Width             1995 non-null   float64\n",
      " 9   Diameter          1995 non-null   float64\n",
      " 10  Display Type      1995 non-null   int64  \n",
      " 11  Display Size      1995 non-null   float64\n",
      " 12  ppi               1995 non-null   float64\n",
      " 13  body ratio        1995 non-null   float64\n",
      " 14  OS                1995 non-null   int64  \n",
      " 15  battery_capacity  1995 non-null   float64\n",
      " 16  Price             1995 non-null   float64\n",
      " 17  CPU               1995 non-null   float64\n",
      " 18  pixel             1995 non-null   float64\n",
      " 19  Loudspeaker       1995 non-null   bool   \n",
      " 20  3.5mm jack        1995 non-null   bool   \n",
      " 21  Chipset           1995 non-null   int64  \n",
      " 22  RAM               1995 non-null   float64\n",
      " 23  Storage           1995 non-null   float64\n",
      " 24  Micro-SIM         1995 non-null   bool   \n",
      " 25  Mini-SIM          1995 non-null   bool   \n",
      " 26  Nano-SIM          1995 non-null   bool   \n",
      " 27  eSIM              1995 non-null   bool   \n",
      " 28  ratio_1           1995 non-null   float64\n",
      " 29  ratio_2           1995 non-null   float64\n",
      "dtypes: bool(9), float64(15), int64(6)\n",
      "memory usage: 345.0 KB\n"
     ]
    }
   ],
   "source": [
    "train.info()"
   ]
  },
  {
   "cell_type": "code",
   "execution_count": 5,
   "metadata": {},
   "outputs": [
    {
     "name": "stdout",
     "output_type": "stream",
     "text": [
      "<class 'pandas.core.frame.DataFrame'>\n",
      "RangeIndex: 353 entries, 0 to 352\n",
      "Data columns (total 30 columns):\n",
      " #   Column            Non-Null Count  Dtype  \n",
      "---  ------            --------------  -----  \n",
      " 0   Unnamed: 0        353 non-null    int64  \n",
      " 1   brand             353 non-null    int64  \n",
      " 2   3G                353 non-null    bool   \n",
      " 3   4G                353 non-null    bool   \n",
      " 4   5G                353 non-null    bool   \n",
      " 5   Announced         353 non-null    int64  \n",
      " 6   Weight            353 non-null    float64\n",
      " 7   Length            353 non-null    float64\n",
      " 8   Width             353 non-null    float64\n",
      " 9   Diameter          353 non-null    float64\n",
      " 10  Display Type      353 non-null    int64  \n",
      " 11  Display Size      353 non-null    float64\n",
      " 12  ppi               353 non-null    float64\n",
      " 13  body ratio        353 non-null    float64\n",
      " 14  OS                353 non-null    int64  \n",
      " 15  battery_capacity  353 non-null    float64\n",
      " 16  Price             353 non-null    float64\n",
      " 17  CPU               353 non-null    float64\n",
      " 18  pixel             353 non-null    float64\n",
      " 19  Loudspeaker       353 non-null    bool   \n",
      " 20  3.5mm jack        353 non-null    bool   \n",
      " 21  Chipset           353 non-null    int64  \n",
      " 22  RAM               353 non-null    float64\n",
      " 23  Storage           353 non-null    float64\n",
      " 24  Micro-SIM         353 non-null    bool   \n",
      " 25  Mini-SIM          353 non-null    bool   \n",
      " 26  Nano-SIM          353 non-null    bool   \n",
      " 27  eSIM              353 non-null    bool   \n",
      " 28  ratio_1           353 non-null    float64\n",
      " 29  ratio_2           353 non-null    float64\n",
      "dtypes: bool(9), float64(15), int64(6)\n",
      "memory usage: 61.1 KB\n"
     ]
    }
   ],
   "source": [
    "test.info()"
   ]
  },
  {
   "cell_type": "code",
   "execution_count": 6,
   "metadata": {},
   "outputs": [
    {
     "data": {
      "text/plain": [
       "OS\n",
       "0    1853\n",
       "1      78\n",
       "2      64\n",
       "Name: count, dtype: int64"
      ]
     },
     "execution_count": 6,
     "metadata": {},
     "output_type": "execute_result"
    }
   ],
   "source": [
    "X = train.drop(['OS', 'Unnamed: 0'], axis=1)\n",
    "y = train['OS']\n",
    "\n",
    "y.value_counts()"
   ]
  },
  {
   "cell_type": "code",
   "execution_count": 7,
   "metadata": {},
   "outputs": [],
   "source": [
    "#re sample or not to re sample\n",
    "\n",
    "\n"
   ]
  },
  {
   "cell_type": "code",
   "execution_count": 8,
   "metadata": {},
   "outputs": [],
   "source": [
    "from sklearn.model_selection import train_test_split\n",
    "from imblearn.over_sampling import SMOTE\n",
    "sampler = SMOTE(random_state=42)\n",
    "X_train, X_val, y_train, y_val = train_test_split(X, y, test_size=0.25, random_state=42)\n",
    "Xt, yt = sampler.fit_resample(X_train, y_train)\n"
   ]
  },
  {
   "cell_type": "code",
   "execution_count": 9,
   "metadata": {},
   "outputs": [
    {
     "data": {
      "text/plain": [
       "0.9673551846318431"
      ]
     },
     "execution_count": 9,
     "metadata": {},
     "output_type": "execute_result"
    }
   ],
   "source": [
    "from sklearn.tree import DecisionTreeClassifier\n",
    "from sklearn.ensemble import RandomForestClassifier\n",
    "from sklearn.metrics import f1_score\n",
    "\n",
    "model = RandomForestClassifier(random_state=42)\n",
    "model.fit(Xt, yt)\n",
    "y_pred = model.predict(X_val)\n",
    "f1_score(y_val, y_pred, average='weighted')\n"
   ]
  },
  {
   "cell_type": "code",
   "execution_count": 10,
   "metadata": {},
   "outputs": [
    {
     "data": {
      "text/plain": [
       "0.9695136496269642"
      ]
     },
     "execution_count": 10,
     "metadata": {},
     "output_type": "execute_result"
    }
   ],
   "source": [
    "X_test = test.drop(['OS', 'Unnamed: 0'], axis=1)\n",
    "\n",
    "y_test = test['OS']\n",
    "\n",
    "y_pred = model.predict(X_test)\n",
    "f1_score(y_test, y_pred, average='weighted')\n",
    "# to good to be true?\n",
    "# ok that was the power of the unnamed:)\n",
    "# or could we have better results?"
   ]
  },
  {
   "cell_type": "code",
   "execution_count": 11,
   "metadata": {},
   "outputs": [
    {
     "data": {
      "text/plain": [
       "0.9200077522256723"
      ]
     },
     "execution_count": 11,
     "metadata": {},
     "output_type": "execute_result"
    }
   ],
   "source": [
    "y_pred = np.zeros(len(y_test))\n",
    "f1_score(y_test, y_pred, average='weighted')\n",
    "# the worst we should get is this. let's keep it like this"
   ]
  },
  {
   "cell_type": "code",
   "execution_count": 12,
   "metadata": {},
   "outputs": [
    {
     "name": "stdout",
     "output_type": "stream",
     "text": [
      "<class 'pandas.core.frame.DataFrame'>\n",
      "RangeIndex: 4173 entries, 0 to 4172\n",
      "Data columns (total 28 columns):\n",
      " #   Column            Non-Null Count  Dtype  \n",
      "---  ------            --------------  -----  \n",
      " 0   brand             4173 non-null   int64  \n",
      " 1   3G                4173 non-null   bool   \n",
      " 2   4G                4173 non-null   bool   \n",
      " 3   5G                4173 non-null   bool   \n",
      " 4   Announced         4173 non-null   int64  \n",
      " 5   Weight            4173 non-null   float64\n",
      " 6   Length            4173 non-null   float64\n",
      " 7   Width             4173 non-null   float64\n",
      " 8   Diameter          4173 non-null   float64\n",
      " 9   Display Type      4173 non-null   int64  \n",
      " 10  Display Size      4173 non-null   float64\n",
      " 11  ppi               4173 non-null   float64\n",
      " 12  body ratio        4173 non-null   float64\n",
      " 13  battery_capacity  4173 non-null   float64\n",
      " 14  Price             4173 non-null   float64\n",
      " 15  CPU               4173 non-null   float64\n",
      " 16  pixel             4173 non-null   float64\n",
      " 17  Loudspeaker       4173 non-null   bool   \n",
      " 18  3.5mm jack        4173 non-null   bool   \n",
      " 19  Chipset           4173 non-null   int64  \n",
      " 20  RAM               4173 non-null   float64\n",
      " 21  Storage           4173 non-null   float64\n",
      " 22  Micro-SIM         4173 non-null   bool   \n",
      " 23  Mini-SIM          4173 non-null   bool   \n",
      " 24  Nano-SIM          4173 non-null   bool   \n",
      " 25  eSIM              4173 non-null   bool   \n",
      " 26  ratio_1           4173 non-null   float64\n",
      " 27  ratio_2           4173 non-null   float64\n",
      "dtypes: bool(9), float64(15), int64(4)\n",
      "memory usage: 656.2 KB\n"
     ]
    }
   ],
   "source": [
    "Xt.info()"
   ]
  },
  {
   "cell_type": "code",
   "execution_count": 13,
   "metadata": {},
   "outputs": [
    {
     "data": {
      "text/html": [
       "<div>\n",
       "<style scoped>\n",
       "    .dataframe tbody tr th:only-of-type {\n",
       "        vertical-align: middle;\n",
       "    }\n",
       "\n",
       "    .dataframe tbody tr th {\n",
       "        vertical-align: top;\n",
       "    }\n",
       "\n",
       "    .dataframe thead th {\n",
       "        text-align: right;\n",
       "    }\n",
       "</style>\n",
       "<table border=\"1\" class=\"dataframe\">\n",
       "  <thead>\n",
       "    <tr style=\"text-align: right;\">\n",
       "      <th></th>\n",
       "      <th>Unnamed: 0</th>\n",
       "      <th>brand</th>\n",
       "      <th>3G</th>\n",
       "      <th>4G</th>\n",
       "      <th>5G</th>\n",
       "      <th>Announced</th>\n",
       "      <th>Weight</th>\n",
       "      <th>Length</th>\n",
       "      <th>Width</th>\n",
       "      <th>Diameter</th>\n",
       "      <th>...</th>\n",
       "      <th>3.5mm jack</th>\n",
       "      <th>Chipset</th>\n",
       "      <th>RAM</th>\n",
       "      <th>Storage</th>\n",
       "      <th>Micro-SIM</th>\n",
       "      <th>Mini-SIM</th>\n",
       "      <th>Nano-SIM</th>\n",
       "      <th>eSIM</th>\n",
       "      <th>ratio_1</th>\n",
       "      <th>ratio_2</th>\n",
       "    </tr>\n",
       "  </thead>\n",
       "  <tbody>\n",
       "    <tr>\n",
       "      <th>0</th>\n",
       "      <td>1547</td>\n",
       "      <td>13</td>\n",
       "      <td>True</td>\n",
       "      <td>True</td>\n",
       "      <td>False</td>\n",
       "      <td>2017</td>\n",
       "      <td>180.0</td>\n",
       "      <td>165.1</td>\n",
       "      <td>83.8</td>\n",
       "      <td>9.4</td>\n",
       "      <td>...</td>\n",
       "      <td>True</td>\n",
       "      <td>6</td>\n",
       "      <td>2.0</td>\n",
       "      <td>16.0</td>\n",
       "      <td>False</td>\n",
       "      <td>False</td>\n",
       "      <td>True</td>\n",
       "      <td>False</td>\n",
       "      <td>16.0</td>\n",
       "      <td>9.0</td>\n",
       "    </tr>\n",
       "    <tr>\n",
       "      <th>1</th>\n",
       "      <td>1313</td>\n",
       "      <td>9</td>\n",
       "      <td>True</td>\n",
       "      <td>False</td>\n",
       "      <td>False</td>\n",
       "      <td>2011</td>\n",
       "      <td>125.5</td>\n",
       "      <td>119.0</td>\n",
       "      <td>62.4</td>\n",
       "      <td>12.5</td>\n",
       "      <td>...</td>\n",
       "      <td>True</td>\n",
       "      <td>6</td>\n",
       "      <td>0.5</td>\n",
       "      <td>8.0</td>\n",
       "      <td>True</td>\n",
       "      <td>False</td>\n",
       "      <td>False</td>\n",
       "      <td>False</td>\n",
       "      <td>5.0</td>\n",
       "      <td>3.0</td>\n",
       "    </tr>\n",
       "    <tr>\n",
       "      <th>2</th>\n",
       "      <td>929</td>\n",
       "      <td>7</td>\n",
       "      <td>True</td>\n",
       "      <td>True</td>\n",
       "      <td>False</td>\n",
       "      <td>2015</td>\n",
       "      <td>150.0</td>\n",
       "      <td>152.6</td>\n",
       "      <td>76.2</td>\n",
       "      <td>8.0</td>\n",
       "      <td>...</td>\n",
       "      <td>True</td>\n",
       "      <td>4</td>\n",
       "      <td>2.0</td>\n",
       "      <td>16.0</td>\n",
       "      <td>True</td>\n",
       "      <td>False</td>\n",
       "      <td>False</td>\n",
       "      <td>False</td>\n",
       "      <td>16.0</td>\n",
       "      <td>9.0</td>\n",
       "    </tr>\n",
       "    <tr>\n",
       "      <th>3</th>\n",
       "      <td>1723</td>\n",
       "      <td>12</td>\n",
       "      <td>True</td>\n",
       "      <td>True</td>\n",
       "      <td>True</td>\n",
       "      <td>2021</td>\n",
       "      <td>207.0</td>\n",
       "      <td>163.7</td>\n",
       "      <td>76.2</td>\n",
       "      <td>8.3</td>\n",
       "      <td>...</td>\n",
       "      <td>True</td>\n",
       "      <td>4</td>\n",
       "      <td>6.0</td>\n",
       "      <td>128.0</td>\n",
       "      <td>False</td>\n",
       "      <td>False</td>\n",
       "      <td>True</td>\n",
       "      <td>False</td>\n",
       "      <td>20.0</td>\n",
       "      <td>9.0</td>\n",
       "    </tr>\n",
       "    <tr>\n",
       "      <th>4</th>\n",
       "      <td>1925</td>\n",
       "      <td>10</td>\n",
       "      <td>True</td>\n",
       "      <td>True</td>\n",
       "      <td>True</td>\n",
       "      <td>2023</td>\n",
       "      <td>202.0</td>\n",
       "      <td>158.2</td>\n",
       "      <td>76.7</td>\n",
       "      <td>8.2</td>\n",
       "      <td>...</td>\n",
       "      <td>False</td>\n",
       "      <td>1</td>\n",
       "      <td>4.0</td>\n",
       "      <td>128.0</td>\n",
       "      <td>False</td>\n",
       "      <td>False</td>\n",
       "      <td>False</td>\n",
       "      <td>True</td>\n",
       "      <td>5.0</td>\n",
       "      <td>9.0</td>\n",
       "    </tr>\n",
       "    <tr>\n",
       "      <th>...</th>\n",
       "      <td>...</td>\n",
       "      <td>...</td>\n",
       "      <td>...</td>\n",
       "      <td>...</td>\n",
       "      <td>...</td>\n",
       "      <td>...</td>\n",
       "      <td>...</td>\n",
       "      <td>...</td>\n",
       "      <td>...</td>\n",
       "      <td>...</td>\n",
       "      <td>...</td>\n",
       "      <td>...</td>\n",
       "      <td>...</td>\n",
       "      <td>...</td>\n",
       "      <td>...</td>\n",
       "      <td>...</td>\n",
       "      <td>...</td>\n",
       "      <td>...</td>\n",
       "      <td>...</td>\n",
       "      <td>...</td>\n",
       "      <td>...</td>\n",
       "    </tr>\n",
       "    <tr>\n",
       "      <th>1990</th>\n",
       "      <td>1638</td>\n",
       "      <td>12</td>\n",
       "      <td>True</td>\n",
       "      <td>True</td>\n",
       "      <td>True</td>\n",
       "      <td>2023</td>\n",
       "      <td>198.0</td>\n",
       "      <td>160.5</td>\n",
       "      <td>74.3</td>\n",
       "      <td>8.1</td>\n",
       "      <td>...</td>\n",
       "      <td>False</td>\n",
       "      <td>4</td>\n",
       "      <td>8.0</td>\n",
       "      <td>256.0</td>\n",
       "      <td>False</td>\n",
       "      <td>False</td>\n",
       "      <td>True</td>\n",
       "      <td>False</td>\n",
       "      <td>20.0</td>\n",
       "      <td>9.0</td>\n",
       "    </tr>\n",
       "    <tr>\n",
       "      <th>1991</th>\n",
       "      <td>1095</td>\n",
       "      <td>8</td>\n",
       "      <td>True</td>\n",
       "      <td>True</td>\n",
       "      <td>False</td>\n",
       "      <td>2015</td>\n",
       "      <td>155.0</td>\n",
       "      <td>148.9</td>\n",
       "      <td>76.1</td>\n",
       "      <td>3.5</td>\n",
       "      <td>...</td>\n",
       "      <td>True</td>\n",
       "      <td>6</td>\n",
       "      <td>3.0</td>\n",
       "      <td>32.0</td>\n",
       "      <td>True</td>\n",
       "      <td>False</td>\n",
       "      <td>False</td>\n",
       "      <td>False</td>\n",
       "      <td>16.0</td>\n",
       "      <td>9.0</td>\n",
       "    </tr>\n",
       "    <tr>\n",
       "      <th>1992</th>\n",
       "      <td>1130</td>\n",
       "      <td>8</td>\n",
       "      <td>True</td>\n",
       "      <td>False</td>\n",
       "      <td>False</td>\n",
       "      <td>2014</td>\n",
       "      <td>126.6</td>\n",
       "      <td>127.2</td>\n",
       "      <td>66.8</td>\n",
       "      <td>9.5</td>\n",
       "      <td>...</td>\n",
       "      <td>True</td>\n",
       "      <td>6</td>\n",
       "      <td>1.0</td>\n",
       "      <td>4.0</td>\n",
       "      <td>False</td>\n",
       "      <td>True</td>\n",
       "      <td>False</td>\n",
       "      <td>False</td>\n",
       "      <td>5.0</td>\n",
       "      <td>3.0</td>\n",
       "    </tr>\n",
       "    <tr>\n",
       "      <th>1993</th>\n",
       "      <td>1294</td>\n",
       "      <td>9</td>\n",
       "      <td>True</td>\n",
       "      <td>True</td>\n",
       "      <td>False</td>\n",
       "      <td>2013</td>\n",
       "      <td>159.0</td>\n",
       "      <td>133.3</td>\n",
       "      <td>72.3</td>\n",
       "      <td>9.2</td>\n",
       "      <td>...</td>\n",
       "      <td>True</td>\n",
       "      <td>6</td>\n",
       "      <td>0.5</td>\n",
       "      <td>8.0</td>\n",
       "      <td>True</td>\n",
       "      <td>False</td>\n",
       "      <td>False</td>\n",
       "      <td>False</td>\n",
       "      <td>5.0</td>\n",
       "      <td>3.0</td>\n",
       "    </tr>\n",
       "    <tr>\n",
       "      <th>1994</th>\n",
       "      <td>860</td>\n",
       "      <td>7</td>\n",
       "      <td>True</td>\n",
       "      <td>True</td>\n",
       "      <td>False</td>\n",
       "      <td>2019</td>\n",
       "      <td>195.0</td>\n",
       "      <td>177.9</td>\n",
       "      <td>86.5</td>\n",
       "      <td>7.9</td>\n",
       "      <td>...</td>\n",
       "      <td>True</td>\n",
       "      <td>6</td>\n",
       "      <td>3.0</td>\n",
       "      <td>64.0</td>\n",
       "      <td>False</td>\n",
       "      <td>False</td>\n",
       "      <td>True</td>\n",
       "      <td>False</td>\n",
       "      <td>18.0</td>\n",
       "      <td>9.0</td>\n",
       "    </tr>\n",
       "  </tbody>\n",
       "</table>\n",
       "<p>1995 rows × 30 columns</p>\n",
       "</div>"
      ],
      "text/plain": [
       "      Unnamed: 0  brand    3G     4G     5G  Announced  Weight  Length  Width  \\\n",
       "0           1547     13  True   True  False       2017   180.0   165.1   83.8   \n",
       "1           1313      9  True  False  False       2011   125.5   119.0   62.4   \n",
       "2            929      7  True   True  False       2015   150.0   152.6   76.2   \n",
       "3           1723     12  True   True   True       2021   207.0   163.7   76.2   \n",
       "4           1925     10  True   True   True       2023   202.0   158.2   76.7   \n",
       "...          ...    ...   ...    ...    ...        ...     ...     ...    ...   \n",
       "1990        1638     12  True   True   True       2023   198.0   160.5   74.3   \n",
       "1991        1095      8  True   True  False       2015   155.0   148.9   76.1   \n",
       "1992        1130      8  True  False  False       2014   126.6   127.2   66.8   \n",
       "1993        1294      9  True   True  False       2013   159.0   133.3   72.3   \n",
       "1994         860      7  True   True  False       2019   195.0   177.9   86.5   \n",
       "\n",
       "      Diameter  ...  3.5mm jack  Chipset  RAM  Storage  Micro-SIM  Mini-SIM  \\\n",
       "0          9.4  ...        True        6  2.0     16.0      False     False   \n",
       "1         12.5  ...        True        6  0.5      8.0       True     False   \n",
       "2          8.0  ...        True        4  2.0     16.0       True     False   \n",
       "3          8.3  ...        True        4  6.0    128.0      False     False   \n",
       "4          8.2  ...       False        1  4.0    128.0      False     False   \n",
       "...        ...  ...         ...      ...  ...      ...        ...       ...   \n",
       "1990       8.1  ...       False        4  8.0    256.0      False     False   \n",
       "1991       3.5  ...        True        6  3.0     32.0       True     False   \n",
       "1992       9.5  ...        True        6  1.0      4.0      False      True   \n",
       "1993       9.2  ...        True        6  0.5      8.0       True     False   \n",
       "1994       7.9  ...        True        6  3.0     64.0      False     False   \n",
       "\n",
       "      Nano-SIM   eSIM  ratio_1  ratio_2  \n",
       "0         True  False     16.0      9.0  \n",
       "1        False  False      5.0      3.0  \n",
       "2        False  False     16.0      9.0  \n",
       "3         True  False     20.0      9.0  \n",
       "4        False   True      5.0      9.0  \n",
       "...        ...    ...      ...      ...  \n",
       "1990      True  False     20.0      9.0  \n",
       "1991     False  False     16.0      9.0  \n",
       "1992     False  False      5.0      3.0  \n",
       "1993     False  False      5.0      3.0  \n",
       "1994      True  False     18.0      9.0  \n",
       "\n",
       "[1995 rows x 30 columns]"
      ]
     },
     "execution_count": 13,
     "metadata": {},
     "output_type": "execute_result"
    }
   ],
   "source": [
    "train"
   ]
  },
  {
   "cell_type": "markdown",
   "metadata": {},
   "source": [
    "### the capacity thing\n"
   ]
  },
  {
   "cell_type": "code",
   "execution_count": 14,
   "metadata": {},
   "outputs": [],
   "source": [
    "def transform_battery_capacity_train(x):\n",
    "    if x < train['battery_capacity'].quantile(0.33):\n",
    "        return 0\n",
    "    elif x < train['battery_capacity'].quantile(0.67):\n",
    "        return 1\n",
    "    return 2"
   ]
  },
  {
   "cell_type": "code",
   "execution_count": 15,
   "metadata": {},
   "outputs": [],
   "source": [
    "X = train.drop(['OS', 'Unnamed: 0'], axis=1)\n",
    "\n",
    "    \n",
    "X['battery_capacity'] = X['battery_capacity'].apply(transform_battery_capacity_train)\n",
    "\n",
    "y = train['OS']\n"
   ]
  },
  {
   "cell_type": "code",
   "execution_count": 16,
   "metadata": {},
   "outputs": [],
   "source": [
    "from sklearn.model_selection import train_test_split\n",
    "from imblearn.over_sampling import SMOTE\n",
    "sampler = SMOTE(random_state=42)\n",
    "X_train, X_val, y_train, y_val = train_test_split(X, y, test_size=0.25, random_state=42)\n",
    "Xt, yt = sampler.fit_resample(X_train, y_train)"
   ]
  },
  {
   "cell_type": "code",
   "execution_count": 17,
   "metadata": {},
   "outputs": [
    {
     "data": {
      "text/plain": [
       "0.9724294607751036"
      ]
     },
     "execution_count": 17,
     "metadata": {},
     "output_type": "execute_result"
    }
   ],
   "source": [
    "from sklearn.ensemble import RandomForestClassifier\n",
    "from sklearn.feature_selection import SelectKBest, f_classif\n",
    "from sklearn.metrics import f1_score\n",
    "\n",
    "model = RandomForestClassifier(random_state=42)\n",
    "# selector = SelectKBest(f_classif, k=2)\n",
    "# Xt_selected = selector.fit_transform(Xt, yt)\n",
    "# X_val_selected = selector.transform(X_val)\n",
    "\n",
    "model.fit(Xt, yt)\n",
    "\n",
    "y_pred = model.predict(X_val)\n",
    "f1_score(y_val, y_pred, average='weighted')"
   ]
  },
  {
   "cell_type": "code",
   "execution_count": 18,
   "metadata": {},
   "outputs": [],
   "source": [
    "def transform_battery_capacity_test(x):\n",
    "    if x < test['battery_capacity'].quantile(0.33):\n",
    "        return 0\n",
    "    elif x < test['battery_capacity'].quantile(0.67):\n",
    "        return 1\n",
    "    return 2"
   ]
  },
  {
   "cell_type": "code",
   "execution_count": 19,
   "metadata": {},
   "outputs": [
    {
     "data": {
      "text/plain": [
       "0.9673372797869594"
      ]
     },
     "execution_count": 19,
     "metadata": {},
     "output_type": "execute_result"
    }
   ],
   "source": [
    "X_test = test.drop(['OS', 'Unnamed: 0'], axis=1)\n",
    "X_test['battery_capacity'] = X_test['battery_capacity'].apply(transform_battery_capacity_test)\n",
    "\n",
    "y_test = test['OS']\n",
    "\n",
    "y_pred = model.predict(X_test)\n",
    "f1_score(y_test, y_pred, average='weighted')"
   ]
  },
  {
   "cell_type": "code",
   "execution_count": 20,
   "metadata": {},
   "outputs": [
    {
     "data": {
      "text/plain": [
       "(array([1, 1, 1, 0, 0, 1, 1, 1, 0, 2, 1, 0], dtype=int64),\n",
       " 84     1\n",
       " 100    1\n",
       " 101    0\n",
       " 110    0\n",
       " 114    1\n",
       " 118    0\n",
       " 161    0\n",
       " 175    0\n",
       " 182    1\n",
       " 199    1\n",
       " 215    1\n",
       " 313    1\n",
       " 334    0\n",
       " 345    0\n",
       " Name: OS, dtype: int64)"
      ]
     },
     "execution_count": 20,
     "metadata": {},
     "output_type": "execute_result"
    }
   ],
   "source": [
    "y_pred[y_test == 1], y_test[y_pred == 1]"
   ]
  },
  {
   "cell_type": "code",
   "execution_count": 21,
   "metadata": {},
   "outputs": [
    {
     "data": {
      "text/plain": [
       "Text(50.722222222222214, 0.5, 'True Lables')"
      ]
     },
     "execution_count": 21,
     "metadata": {},
     "output_type": "execute_result"
    },
    {
     "data": {
      "image/png": "[encoded data removed]",
      "text/plain": [
       "<Figure size 640x480 with 2 Axes>"
      ]
     },
     "metadata": {},
     "output_type": "display_data"
    }
   ],
   "source": [
    "# Confusion Matrix\n",
    "from sklearn.metrics import confusion_matrix\n",
    "import matplotlib.pyplot as plt\n",
    "import seaborn as sns\n",
    "\n",
    "cm = confusion_matrix(y_test, y_pred) \n",
    "\n",
    "sns.heatmap(cm , annot=True ,fmt='d')\n",
    "plt.xlabel(\"predicted Labels\")\n",
    "plt.ylabel(\"True Labels\")"
   ]
  }
 ],
 "metadata": {
  "kernelspec": {
   "display_name": "base",
   "language": "python",
   "name": "python3"
  },
  "language_info": {
   "codemirror_mode": {
    "name": "ipython",
    "version": 3
   },
   "file_extension": ".py",
   "mimetype": "text/x-python",
   "name": "python",
   "nbconvert_exporter": "python",
   "pygments_lexer": "ipython3",
   "version": "3.11.5"
  }
 },
 "nbformat": 4,
 "nbformat_minor": 2
}
